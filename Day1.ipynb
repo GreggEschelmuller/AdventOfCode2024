{
 "cells": [
  {
   "metadata": {},
   "cell_type": "markdown",
   "source": [
    "# Day 1: Advent of Code\n",
    "\n",
    "\n"
   ],
   "id": "7ba16737b291845a"
  },
  {
   "metadata": {},
   "cell_type": "markdown",
   "source": "### Part 1:",
   "id": "9cc84d1d36528f7"
  },
  {
   "metadata": {
    "ExecuteTime": {
     "end_time": "2024-12-02T18:07:48.674147Z",
     "start_time": "2024-12-02T18:07:47.831763Z"
    }
   },
   "cell_type": "code",
   "source": "import pandas as pd",
   "id": "578f65ac8c0924e0",
   "outputs": [],
   "execution_count": 2
  },
  {
   "metadata": {
    "ExecuteTime": {
     "end_time": "2024-12-02T18:14:15.591009Z",
     "start_time": "2024-12-02T18:14:15.579897Z"
    }
   },
   "cell_type": "code",
   "source": [
    "# Read the data with tab separation and no header\n",
    "data = pd.read_csv('day1_input.txt', sep=r'\\s+', header=None)\n",
    "data"
   ],
   "id": "6b330330ab6238ac",
   "outputs": [
    {
     "data": {
      "text/plain": [
       "         0      1\n",
       "0    16435  48069\n",
       "1    29877  97906\n",
       "2    75256  47355\n",
       "3    25417  59861\n",
       "4    32479  25840\n",
       "..     ...    ...\n",
       "995  66871  37296\n",
       "996  33330  86365\n",
       "997  66278  96190\n",
       "998  18682  72272\n",
       "999  42394  36663\n",
       "\n",
       "[1000 rows x 2 columns]"
      ],
      "text/html": [
       "<div>\n",
       "<style scoped>\n",
       "    .dataframe tbody tr th:only-of-type {\n",
       "        vertical-align: middle;\n",
       "    }\n",
       "\n",
       "    .dataframe tbody tr th {\n",
       "        vertical-align: top;\n",
       "    }\n",
       "\n",
       "    .dataframe thead th {\n",
       "        text-align: right;\n",
       "    }\n",
       "</style>\n",
       "<table border=\"1\" class=\"dataframe\">\n",
       "  <thead>\n",
       "    <tr style=\"text-align: right;\">\n",
       "      <th></th>\n",
       "      <th>0</th>\n",
       "      <th>1</th>\n",
       "    </tr>\n",
       "  </thead>\n",
       "  <tbody>\n",
       "    <tr>\n",
       "      <th>0</th>\n",
       "      <td>16435</td>\n",
       "      <td>48069</td>\n",
       "    </tr>\n",
       "    <tr>\n",
       "      <th>1</th>\n",
       "      <td>29877</td>\n",
       "      <td>97906</td>\n",
       "    </tr>\n",
       "    <tr>\n",
       "      <th>2</th>\n",
       "      <td>75256</td>\n",
       "      <td>47355</td>\n",
       "    </tr>\n",
       "    <tr>\n",
       "      <th>3</th>\n",
       "      <td>25417</td>\n",
       "      <td>59861</td>\n",
       "    </tr>\n",
       "    <tr>\n",
       "      <th>4</th>\n",
       "      <td>32479</td>\n",
       "      <td>25840</td>\n",
       "    </tr>\n",
       "    <tr>\n",
       "      <th>...</th>\n",
       "      <td>...</td>\n",
       "      <td>...</td>\n",
       "    </tr>\n",
       "    <tr>\n",
       "      <th>995</th>\n",
       "      <td>66871</td>\n",
       "      <td>37296</td>\n",
       "    </tr>\n",
       "    <tr>\n",
       "      <th>996</th>\n",
       "      <td>33330</td>\n",
       "      <td>86365</td>\n",
       "    </tr>\n",
       "    <tr>\n",
       "      <th>997</th>\n",
       "      <td>66278</td>\n",
       "      <td>96190</td>\n",
       "    </tr>\n",
       "    <tr>\n",
       "      <th>998</th>\n",
       "      <td>18682</td>\n",
       "      <td>72272</td>\n",
       "    </tr>\n",
       "    <tr>\n",
       "      <th>999</th>\n",
       "      <td>42394</td>\n",
       "      <td>36663</td>\n",
       "    </tr>\n",
       "  </tbody>\n",
       "</table>\n",
       "<p>1000 rows × 2 columns</p>\n",
       "</div>"
      ]
     },
     "execution_count": 14,
     "metadata": {},
     "output_type": "execute_result"
    }
   ],
   "execution_count": 14
  },
  {
   "metadata": {
    "ExecuteTime": {
     "end_time": "2024-12-02T18:19:12.958687Z",
     "start_time": "2024-12-02T18:19:12.951878Z"
    }
   },
   "cell_type": "code",
   "source": [
    "# Apply sorting to each column\n",
    "sorted_data = data.apply(lambda col: col.sort_values().values)\n",
    "sorted_data['diff'] = (sorted_data[1] - sorted_data[0]).abs()\n",
    "total_distance = sorted_data['diff'].sum()\n"
   ],
   "id": "c8b8d646ca14229f",
   "outputs": [],
   "execution_count": 20
  },
  {
   "metadata": {},
   "cell_type": "markdown",
   "source": "### Part 2:",
   "id": "ddd0ff800b19b6d8"
  },
  {
   "metadata": {
    "ExecuteTime": {
     "end_time": "2024-12-02T18:29:06.909536Z",
     "start_time": "2024-12-02T18:29:06.669574Z"
    }
   },
   "cell_type": "code",
   "source": [
    "def count_value_in_column(dataframe, column_name, val):\n",
    "    # Use value_counts() to get a Series of value counts\n",
    "    value_counts = dataframe[column_name].value_counts()\n",
    "\n",
    "    # Get the count for the specified value, default to 0 if the value is not in the column\n",
    "    return value_counts.get(val, 0)\n",
    "\n",
    "sim_score = 0\n",
    "for value in sorted_data.iloc[:, 0]:\n",
    "    val_num = count_value_in_column(sorted_data, 1, value)\n",
    "    sim_score += val_num * value\n",
    "\n",
    "sim_score\n",
    "\n"
   ],
   "id": "186ba329208e96b2",
   "outputs": [
    {
     "data": {
      "text/plain": [
       "20373490"
      ]
     },
     "execution_count": 25,
     "metadata": {},
     "output_type": "execute_result"
    }
   ],
   "execution_count": 25
  }
 ],
 "metadata": {
  "kernelspec": {
   "display_name": "Python 3",
   "language": "python",
   "name": "python3"
  },
  "language_info": {
   "codemirror_mode": {
    "name": "ipython",
    "version": 2
   },
   "file_extension": ".py",
   "mimetype": "text/x-python",
   "name": "python",
   "nbconvert_exporter": "python",
   "pygments_lexer": "ipython2",
   "version": "2.7.6"
  }
 },
 "nbformat": 4,
 "nbformat_minor": 5
}
