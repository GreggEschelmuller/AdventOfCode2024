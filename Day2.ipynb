{
 "cells": [
  {
   "metadata": {},
   "cell_type": "markdown",
   "source": [
    "# Day 2: Advent of Code\n",
    "\n"
   ],
   "id": "b79de6cab1af54b2"
  },
  {
   "metadata": {
    "ExecuteTime": {
     "end_time": "2024-12-03T16:41:41.385514Z",
     "start_time": "2024-12-03T16:41:41.093786Z"
    }
   },
   "cell_type": "code",
   "source": "import pandas as pd",
   "id": "88f906ec9b36ad85",
   "outputs": [],
   "execution_count": 1
  },
  {
   "metadata": {
    "ExecuteTime": {
     "end_time": "2024-12-03T16:45:20.199096Z",
     "start_time": "2024-12-03T16:45:20.192633Z"
    }
   },
   "cell_type": "code",
   "source": [
    "# Read 'day2_input.txt' line by line, splitting each line into a list of integers\n",
    "with open('day2_input.txt', 'r') as file:\n",
    "    data = [list(map(int, line.split())) for line in file]"
   ],
   "id": "27fe2ea01d4e883",
   "outputs": [],
   "execution_count": 6
  },
  {
   "metadata": {
    "ExecuteTime": {
     "end_time": "2024-12-03T16:58:46.087607Z",
     "start_time": "2024-12-03T16:58:46.076302Z"
    }
   },
   "cell_type": "code",
   "source": [
    "good_reports = 0\n",
    "for report in data:\n",
    "    differences = [report[i + 1] - report[i] for i in range(len(report) - 1)]\n",
    "    if all(num > 0 for num in differences) or all(num < 0 for num in differences):\n",
    "        if all(4 > abs(num) > 0 for num in differences):\n",
    "            good_reports += 1\n",
    "\n",
    "good_reports\n"
   ],
   "id": "b5ce18e4e359900f",
   "outputs": [
    {
     "data": {
      "text/plain": [
       "321"
      ]
     },
     "execution_count": 14,
     "metadata": {},
     "output_type": "execute_result"
    }
   ],
   "execution_count": 14
  },
  {
   "metadata": {},
   "cell_type": "code",
   "outputs": [],
   "execution_count": null,
   "source": "",
   "id": "68bf93f5be03a1f0"
  }
 ],
 "metadata": {
  "kernelspec": {
   "display_name": "Python 3",
   "language": "python",
   "name": "python3"
  },
  "language_info": {
   "codemirror_mode": {
    "name": "ipython",
    "version": 2
   },
   "file_extension": ".py",
   "mimetype": "text/x-python",
   "name": "python",
   "nbconvert_exporter": "python",
   "pygments_lexer": "ipython2",
   "version": "2.7.6"
  }
 },
 "nbformat": 4,
 "nbformat_minor": 5
}
